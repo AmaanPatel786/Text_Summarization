{
 "cells": [
  {
   "cell_type": "code",
   "execution_count": 7,
   "id": "b25cb76b-c605-4672-8ca6-8f7039529a74",
   "metadata": {},
   "outputs": [
    {
     "name": "stdout",
     "output_type": "stream",
     "text": [
      " There are many techniques available to generate extractive summarization to keep it simple, I will be using an unsupervised learning approach to find the sentences similarity and rank them. Cosine similarity is a measure of similarity between two non-zero vectors of an inner product space that measures the cosine of the angle between them.\n"
     ]
    }
   ],
   "source": [
    "import nltk \n",
    "#nltk.download()\n",
    "from nltk.corpus import stopwords \n",
    "from nltk.tokenize import word_tokenize, sent_tokenize \n",
    "\n",
    "text = \"\"\"There are many techniques available to generate extractive summarization to keep it simple, I will be using an unsupervised learning approach to find the sentences similarity and rank them. Summarization can be defined as a task of producing a concise and fluent summary while preserving key information and overall meaning. One benefit of this will be, you don’t need to train and build a model prior start using it for your project. It’s good to understand Cosine similarity to make the best use of the code you are going to see. Cosine similarity is a measure of similarity between two non-zero vectors of an inner product space that measures the cosine of the angle between them. Its measures cosine of the angle between vectors. The angle will be 0 if sentences are similar.\"\"\"\n",
    "stopWords = set(stopwords.words(\"english\")) \n",
    "words = word_tokenize(text) \n",
    "freqTable = dict() \n",
    "for word in words: \n",
    "\tword = word.lower() \n",
    "\tif word in stopWords: \n",
    "\t\tcontinue\n",
    "\tif word in freqTable: \n",
    "\t\tfreqTable[word] += 1\n",
    "\telse: \n",
    "\t\tfreqTable[word] = 1\n",
    "\n",
    "sentences = sent_tokenize(text) \n",
    "sentenceValue = dict() \n",
    "\n",
    "for sentence in sentences: \n",
    "\tfor word, freq in freqTable.items(): \n",
    "\t\tif word in sentence.lower(): \n",
    "\t\t\tif sentence in sentenceValue: \n",
    "\t\t\t\tsentenceValue[sentence] += freq \n",
    "\t\t\telse: \n",
    "\t\t\t\tsentenceValue[sentence] = freq \n",
    "\n",
    "sumValues = 0\n",
    "for sentence in sentenceValue: \n",
    "\tsumValues += sentenceValue[sentence] \n",
    "\n",
    "average = int(sumValues / len(sentenceValue)) \n",
    "summary = '' \n",
    "for sentence in sentences: \n",
    "\tif (sentence in sentenceValue) and (sentenceValue[sentence] > (1.2 * average)): \n",
    "\t\tsummary += \" \" + sentence \n",
    "print(summary) \n"
   ]
  },
  {
   "cell_type": "code",
   "execution_count": null,
   "id": "c60e85b2-d825-42f4-ad16-06ae9b0829eb",
   "metadata": {},
   "outputs": [],
   "source": []
  }
 ],
 "metadata": {
  "kernelspec": {
   "display_name": "Python 3 (ipykernel)",
   "language": "python",
   "name": "python3"
  },
  "language_info": {
   "codemirror_mode": {
    "name": "ipython",
    "version": 3
   },
   "file_extension": ".py",
   "mimetype": "text/x-python",
   "name": "python",
   "nbconvert_exporter": "python",
   "pygments_lexer": "ipython3",
   "version": "3.12.4"
  }
 },
 "nbformat": 4,
 "nbformat_minor": 5
}
